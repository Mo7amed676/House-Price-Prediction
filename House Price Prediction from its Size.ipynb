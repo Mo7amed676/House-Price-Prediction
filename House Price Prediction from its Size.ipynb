{
 "cells": [
  {
   "cell_type": "markdown",
   "id": "f598ed06",
   "metadata": {},
   "source": [
    "## Imports"
   ]
  },
  {
   "cell_type": "code",
   "execution_count": 25,
   "id": "e9a25890",
   "metadata": {},
   "outputs": [],
   "source": [
    "import pandas as pd\n",
    "import numpy as np  \n",
    "from sklearn.model_selection import train_test_split\n",
    "from sklearn.linear_model import LinearRegression"
   ]
  },
  {
   "cell_type": "markdown",
   "id": "bc966e10",
   "metadata": {},
   "source": [
    "### Show data"
   ]
  },
  {
   "cell_type": "code",
   "execution_count": 26,
   "id": "952969ff",
   "metadata": {},
   "outputs": [
    {
     "name": "stdout",
     "output_type": "stream",
     "text": [
      "Show data:\n",
      "id    Size   Price\n",
      "0  2104  399900\n",
      "1  1600  329900\n",
      "2  2400  369000\n",
      "3  1416  232000\n",
      "4  3000  539900\n"
     ]
    }
   ],
   "source": [
    "#read data\n",
    "data=pd.read_csv(\"data.csv\")\n",
    "print(\"Show data:\")\n",
    "print(\"id\",data.head())"
   ]
  },
  {
   "cell_type": "markdown",
   "id": "d8b08d1b",
   "metadata": {},
   "source": [
    "### Split data train and test"
   ]
  },
  {
   "cell_type": "code",
   "execution_count": 27,
   "id": "74ee4872",
   "metadata": {},
   "outputs": [
    {
     "name": "stdout",
     "output_type": "stream",
     "text": [
      "X_train: \n",
      "[2526],[2040],[2637],[1200],[2400],[1852],[1458],[2300],[1100],[1320],[1664],[1767],[2238],[1380],[4478],[1985],[1236],[1811],[1268],[2132],[1427],[4215],[1600],[1890],[1437],[3890],[1534],[1962],[1239],[1888],[3031],[1494],[2162],[1203],[1416],[2104],[852],\n",
      "X_test: \n",
      "[2200],[3137],[1839],[3000],[2609],[2000],[2567],[1000],[1604],[1940],\n"
     ]
    }
   ],
   "source": [
    "#split data input and output X,y\n",
    "X = data.iloc[:, :-1].values  ##( : )all rows ( :-1) from start to before last element\n",
    "y = data.iloc[:, 1].values\n",
    "#split data for train and test\n",
    "X_train, X_test, y_train, y_test = train_test_split(X, y,test_size=0.2, random_state=0) \n",
    "print(\"X_train: \")\n",
    "for x in X_train:\n",
    "    print(x,end=\",\")\n",
    "print(\"\\nX_test: \")\n",
    "for x in X_test:\n",
    "    print(x,end=\",\")\n",
    "print(end=\"\\n\")"
   ]
  },
  {
   "cell_type": "code",
   "execution_count": 28,
   "id": "4546595d",
   "metadata": {},
   "outputs": [
    {
     "name": "stdout",
     "output_type": "stream",
     "text": [
      "   Actual      Predicted\n",
      "0  475000  362157.690248\n",
      "1  579900  479377.415768\n",
      "2  349900  316996.195144\n",
      "3  539900  462238.565826\n",
      "4  499998  413324.037887\n",
      "5  347000  337137.471354\n",
      "6  314000  408069.791919\n",
      "7  169900  212036.376882\n",
      "8  242900  287597.437943\n",
      "9  239999  329631.405686\n"
     ]
    }
   ],
   "source": [
    "# # Model Training to fit with data\n",
    "model = LinearRegression()  \n",
    "model.fit(X_train, y_train) \n",
    "\n",
    "y_pred = model.predict(X_test) # Predicting the scores based on test data\n",
    "\n",
    "# Comparing Actual vs Predicted score\n",
    "df = pd.DataFrame({\n",
    "    'Actual': y_test,\n",
    "    'Predicted': y_pred\n",
    "    }\n",
    ")\n",
    "print(df)"
   ]
  },
  {
   "cell_type": "code",
   "execution_count": 29,
   "id": "02ab28c4",
   "metadata": {},
   "outputs": [
    {
     "name": "stdout",
     "output_type": "stream",
     "text": [
      "No. of Hours = [1664]\n",
      "Predicted Score = 295103.5036113963\n"
     ]
    }
   ],
   "source": [
    "# predict with any score value \n",
    "hours = np.array([1664]).reshape(1,1) ##matrix([9.25])\n",
    "prdctVlu = model.predict(hours)\n",
    "\n",
    "print(f\"No. of Hours = {hours[0]}\")\n",
    "print(f\"Predicted Score = {prdctVlu[0]}\")"
   ]
  },
  {
   "cell_type": "code",
   "execution_count": null,
   "id": "fdebfc5e",
   "metadata": {},
   "outputs": [],
   "source": []
  }
 ],
 "metadata": {
  "kernelspec": {
   "display_name": "Python 3 (ipykernel)",
   "language": "python",
   "name": "python3"
  },
  "language_info": {
   "codemirror_mode": {
    "name": "ipython",
    "version": 3
   },
   "file_extension": ".py",
   "mimetype": "text/x-python",
   "name": "python",
   "nbconvert_exporter": "python",
   "pygments_lexer": "ipython3",
   "version": "3.9.12"
  }
 },
 "nbformat": 4,
 "nbformat_minor": 5
}
